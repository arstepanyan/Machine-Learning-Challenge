{
 "cells": [
  {
   "cell_type": "markdown",
   "metadata": {},
   "source": [
    "# Exploratory Data Analysis"
   ]
  },
  {
   "cell_type": "code",
   "execution_count": 36,
   "metadata": {},
   "outputs": [
    {
     "name": "stdout",
     "output_type": "stream",
     "text": [
      "  portfolio_id      desk_id    office_id pf_category  start_date         sold  \\\n",
      "0   PF00001002  DSK00001001  OFF00001002           B    20040720  110000000.0   \n",
      "1   PF00001003  DSK00001002  OFF00001001           A    20040709  176671000.0   \n",
      "2   PF00001005  DSK00001004  OFF00001001           A    20040723   56474000.0   \n",
      "3   PF00001006  DSK00001005  OFF00001001           A    20040609  164813000.0   \n",
      "4   PF00001007  DSK00001005  OFF00001002           B    20040609  140800000.0   \n",
      "\n",
      "  country_code  euribor_rate currency  libor_rate        bought  \\\n",
      "0            T       0.02074      USD    2.332216  1.098097e+08   \n",
      "1            N       0.02074      GBP    5.269617  1.760084e+08   \n",
      "2            T       0.02074      USD    2.332216  5.637953e+07   \n",
      "3            T       0.02074      USD    2.332216  1.645088e+08   \n",
      "4            T       0.02074      USD    2.332216  1.405402e+08   \n",
      "\n",
      "   creation_date indicator_code  sell_date type hedge_value status   return  \n",
      "0       20040720            NaN   20040812    B         NaN    NaN  0.02496  \n",
      "1       20040723            NaN   20040812    C         NaN    NaN  0.05496  \n",
      "2       20040723            NaN   20040817    A         NaN    NaN  0.02496  \n",
      "3       20040723            NaN   20040713    A         NaN    NaN  0.02496  \n",
      "4       20040723            NaN   20040713    B         NaN    NaN  0.02496  \n",
      "--------------------------------------------------------------------------------\n",
      "  portfolio_id      desk_id    office_id pf_category  start_date         sold  \\\n",
      "0   PF00001001  DSK00001001  OFF00001001           A    20040720  171831000.0   \n",
      "1   PF00001004  DSK00001003  OFF00001002           B    20040723   56485000.0   \n",
      "2   PF00001009  DSK00001007  OFF00001001           A    20040607   41734000.0   \n",
      "3   PF00001013  DSK00001011  OFF00001001           A    20040716   82951000.0   \n",
      "4   PF00001014  DSK00001012  OFF00001001           A    20040713   73293000.0   \n",
      "\n",
      "  country_code  euribor_rate currency  libor_rate        bought  \\\n",
      "0            T       0.02074      USD    2.332216  1.715337e+08   \n",
      "1            T       0.02074      USD    2.332216  5.638038e+07   \n",
      "2            T       0.02074      USD    2.332216  4.166179e+07   \n",
      "3            T       0.02074      USD    2.332216  8.250936e+07   \n",
      "4            T       0.02074      USD    2.332216  7.317055e+07   \n",
      "\n",
      "   creation_date indicator_code  sell_date type hedge_value status  \n",
      "0       20040720            NaN   20040812    A         NaN    NaN  \n",
      "1       20040723            NaN   20040719    B         NaN    NaN  \n",
      "2       20040726            NaN   20040709    A         NaN    NaN  \n",
      "3       20040726            NaN   20041019    A         NaN    NaN  \n",
      "4       20040726            NaN   20040813    A         NaN    NaN  \n"
     ]
    }
   ],
   "source": [
    "import pandas as pd\n",
    "import numpy as np\n",
    "\n",
    "train = pd.read_csv('data/train.csv')\n",
    "test = pd.read_csv('data/test.csv')\n",
    "\n",
    "print(train.head())\n",
    "print('--------------------------------------------------------------------------------')\n",
    "print(test.head())"
   ]
  },
  {
   "cell_type": "code",
   "execution_count": 37,
   "metadata": {},
   "outputs": [
    {
     "name": "stdout",
     "output_type": "stream",
     "text": [
      "train Shape: (9366, 18) test Shape: (4801, 17)\n",
      "---------------------------------\n",
      "train FEATURE TYPES\n",
      "\n",
      " portfolio_id       object\n",
      "desk_id            object\n",
      "office_id          object\n",
      "pf_category        object\n",
      "start_date          int64\n",
      "sold              float64\n",
      "country_code       object\n",
      "euribor_rate      float64\n",
      "currency           object\n",
      "libor_rate        float64\n",
      "bought            float64\n",
      "creation_date       int64\n",
      "indicator_code     object\n",
      "sell_date           int64\n",
      "type               object\n",
      "hedge_value        object\n",
      "status             object\n",
      "return            float64\n",
      "dtype: object\n",
      "---------------------------------\n",
      "test FEATURE TYPES\n",
      "\n",
      " portfolio_id       object\n",
      "desk_id            object\n",
      "office_id          object\n",
      "pf_category        object\n",
      "start_date          int64\n",
      "sold              float64\n",
      "country_code       object\n",
      "euribor_rate      float64\n",
      "currency           object\n",
      "libor_rate        float64\n",
      "bought            float64\n",
      "creation_date       int64\n",
      "indicator_code     object\n",
      "sell_date           int64\n",
      "type               object\n",
      "hedge_value        object\n",
      "status             object\n",
      "dtype: object\n"
     ]
    }
   ],
   "source": [
    "# Shapes and types of features\n",
    "print('train Shape:', train.shape, 'test Shape:', test.shape)\n",
    "print('---------------------------------')\n",
    "print('train FEATURE TYPES\\n\\n', train.dtypes)\n",
    "print('---------------------------------')\n",
    "print('test FEATURE TYPES\\n\\n', test.dtypes)"
   ]
  },
  {
   "cell_type": "code",
   "execution_count": 38,
   "metadata": {},
   "outputs": [
    {
     "name": "stdout",
     "output_type": "stream",
     "text": [
      "train MISSING VALUES\n",
      "\n",
      " portfolio_id         0\n",
      "desk_id           3665\n",
      "office_id            0\n",
      "pf_category          0\n",
      "start_date           0\n",
      "sold                 2\n",
      "country_code         0\n",
      "euribor_rate         0\n",
      "currency             0\n",
      "libor_rate         474\n",
      "bought               2\n",
      "creation_date        0\n",
      "indicator_code    5699\n",
      "sell_date            0\n",
      "type                 0\n",
      "hedge_value       5701\n",
      "status            3084\n",
      "return               0\n",
      "dtype: int64\n",
      "---------------------------------\n",
      "test MISSING VALUES \n",
      "\n",
      " portfolio_id         0\n",
      "desk_id           1948\n",
      "office_id            0\n",
      "pf_category          0\n",
      "start_date           0\n",
      "sold                 0\n",
      "country_code         0\n",
      "euribor_rate         0\n",
      "currency             0\n",
      "libor_rate         265\n",
      "bought               0\n",
      "creation_date        0\n",
      "indicator_code    2851\n",
      "sell_date            0\n",
      "type                 0\n",
      "hedge_value       2851\n",
      "status            1457\n",
      "dtype: int64\n"
     ]
    }
   ],
   "source": [
    "# Number of missing values\n",
    "print(\"train MISSING VALUES\\n\\n\", train.isnull().sum())\n",
    "print('---------------------------------')\n",
    "print(\"test MISSING VALUES \\n\\n\", test.isnull().sum())"
   ]
  },
  {
   "cell_type": "code",
   "execution_count": 39,
   "metadata": {},
   "outputs": [
    {
     "data": {
      "text/html": [
       "<div>\n",
       "<style>\n",
       "    .dataframe thead tr:only-child th {\n",
       "        text-align: right;\n",
       "    }\n",
       "\n",
       "    .dataframe thead th {\n",
       "        text-align: left;\n",
       "    }\n",
       "\n",
       "    .dataframe tbody tr th {\n",
       "        vertical-align: top;\n",
       "    }\n",
       "</style>\n",
       "<table border=\"1\" class=\"dataframe\">\n",
       "  <thead>\n",
       "    <tr style=\"text-align: right;\">\n",
       "      <th></th>\n",
       "      <th>portfolio_id</th>\n",
       "      <th>desk_id</th>\n",
       "      <th>office_id</th>\n",
       "      <th>pf_category</th>\n",
       "      <th>country_code</th>\n",
       "      <th>currency</th>\n",
       "      <th>indicator_code</th>\n",
       "      <th>type</th>\n",
       "      <th>hedge_value</th>\n",
       "      <th>status</th>\n",
       "    </tr>\n",
       "  </thead>\n",
       "  <tbody>\n",
       "    <tr>\n",
       "      <th>count</th>\n",
       "      <td>9366</td>\n",
       "      <td>5701</td>\n",
       "      <td>9366</td>\n",
       "      <td>9366</td>\n",
       "      <td>9366</td>\n",
       "      <td>9366</td>\n",
       "      <td>3667</td>\n",
       "      <td>9366</td>\n",
       "      <td>3665</td>\n",
       "      <td>6282</td>\n",
       "    </tr>\n",
       "    <tr>\n",
       "      <th>unique</th>\n",
       "      <td>9366</td>\n",
       "      <td>3992</td>\n",
       "      <td>2</td>\n",
       "      <td>5</td>\n",
       "      <td>5</td>\n",
       "      <td>5</td>\n",
       "      <td>1</td>\n",
       "      <td>8</td>\n",
       "      <td>2</td>\n",
       "      <td>1</td>\n",
       "    </tr>\n",
       "    <tr>\n",
       "      <th>top</th>\n",
       "      <td>PF00003545</td>\n",
       "      <td>DSK00006011</td>\n",
       "      <td>OFF00001002</td>\n",
       "      <td>C</td>\n",
       "      <td>M</td>\n",
       "      <td>CHF</td>\n",
       "      <td>True</td>\n",
       "      <td>E</td>\n",
       "      <td>False</td>\n",
       "      <td>True</td>\n",
       "    </tr>\n",
       "    <tr>\n",
       "      <th>freq</th>\n",
       "      <td>1</td>\n",
       "      <td>10</td>\n",
       "      <td>6458</td>\n",
       "      <td>5260</td>\n",
       "      <td>5307</td>\n",
       "      <td>5307</td>\n",
       "      <td>3667</td>\n",
       "      <td>5734</td>\n",
       "      <td>2437</td>\n",
       "      <td>6282</td>\n",
       "    </tr>\n",
       "  </tbody>\n",
       "</table>\n",
       "</div>"
      ],
      "text/plain": [
       "       portfolio_id      desk_id    office_id pf_category country_code  \\\n",
       "count          9366         5701         9366        9366         9366   \n",
       "unique         9366         3992            2           5            5   \n",
       "top      PF00003545  DSK00006011  OFF00001002           C            M   \n",
       "freq              1           10         6458        5260         5307   \n",
       "\n",
       "       currency indicator_code  type hedge_value status  \n",
       "count      9366           3667  9366        3665   6282  \n",
       "unique        5              1     8           2      1  \n",
       "top         CHF           True     E       False   True  \n",
       "freq       5307           3667  5734        2437   6282  "
      ]
     },
     "execution_count": 39,
     "metadata": {},
     "output_type": "execute_result"
    }
   ],
   "source": [
    "# Look at the description of the training data's object features\n",
    "train.describe(include = [np.object])"
   ]
  },
  {
   "cell_type": "code",
   "execution_count": 40,
   "metadata": {},
   "outputs": [
    {
     "data": {
      "text/html": [
       "<div>\n",
       "<style>\n",
       "    .dataframe thead tr:only-child th {\n",
       "        text-align: right;\n",
       "    }\n",
       "\n",
       "    .dataframe thead th {\n",
       "        text-align: left;\n",
       "    }\n",
       "\n",
       "    .dataframe tbody tr th {\n",
       "        vertical-align: top;\n",
       "    }\n",
       "</style>\n",
       "<table border=\"1\" class=\"dataframe\">\n",
       "  <thead>\n",
       "    <tr style=\"text-align: right;\">\n",
       "      <th></th>\n",
       "      <th>portfolio_id</th>\n",
       "      <th>desk_id</th>\n",
       "      <th>office_id</th>\n",
       "      <th>pf_category</th>\n",
       "      <th>country_code</th>\n",
       "      <th>currency</th>\n",
       "      <th>indicator_code</th>\n",
       "      <th>type</th>\n",
       "      <th>hedge_value</th>\n",
       "      <th>status</th>\n",
       "    </tr>\n",
       "  </thead>\n",
       "  <tbody>\n",
       "    <tr>\n",
       "      <th>count</th>\n",
       "      <td>4801</td>\n",
       "      <td>2853</td>\n",
       "      <td>4801</td>\n",
       "      <td>4801</td>\n",
       "      <td>4801</td>\n",
       "      <td>4801</td>\n",
       "      <td>1950</td>\n",
       "      <td>4801</td>\n",
       "      <td>1950</td>\n",
       "      <td>3344</td>\n",
       "    </tr>\n",
       "    <tr>\n",
       "      <th>unique</th>\n",
       "      <td>4801</td>\n",
       "      <td>2197</td>\n",
       "      <td>2</td>\n",
       "      <td>4</td>\n",
       "      <td>5</td>\n",
       "      <td>5</td>\n",
       "      <td>1</td>\n",
       "      <td>7</td>\n",
       "      <td>2</td>\n",
       "      <td>1</td>\n",
       "    </tr>\n",
       "    <tr>\n",
       "      <th>top</th>\n",
       "      <td>PF00003031</td>\n",
       "      <td>DSK00005682</td>\n",
       "      <td>OFF00001002</td>\n",
       "      <td>C</td>\n",
       "      <td>M</td>\n",
       "      <td>CHF</td>\n",
       "      <td>True</td>\n",
       "      <td>E</td>\n",
       "      <td>False</td>\n",
       "      <td>True</td>\n",
       "    </tr>\n",
       "    <tr>\n",
       "      <th>freq</th>\n",
       "      <td>1</td>\n",
       "      <td>7</td>\n",
       "      <td>3300</td>\n",
       "      <td>2675</td>\n",
       "      <td>2696</td>\n",
       "      <td>2696</td>\n",
       "      <td>1950</td>\n",
       "      <td>2940</td>\n",
       "      <td>1280</td>\n",
       "      <td>3344</td>\n",
       "    </tr>\n",
       "  </tbody>\n",
       "</table>\n",
       "</div>"
      ],
      "text/plain": [
       "       portfolio_id      desk_id    office_id pf_category country_code  \\\n",
       "count          4801         2853         4801        4801         4801   \n",
       "unique         4801         2197            2           4            5   \n",
       "top      PF00003031  DSK00005682  OFF00001002           C            M   \n",
       "freq              1            7         3300        2675         2696   \n",
       "\n",
       "       currency indicator_code  type hedge_value status  \n",
       "count      4801           1950  4801        1950   3344  \n",
       "unique        5              1     7           2      1  \n",
       "top         CHF           True     E       False   True  \n",
       "freq       2696           1950  2940        1280   3344  "
      ]
     },
     "execution_count": 40,
     "metadata": {},
     "output_type": "execute_result"
    }
   ],
   "source": [
    "# Look at the description of the test data object features\n",
    "test.describe(include = [np.object])"
   ]
  },
  {
   "cell_type": "markdown",
   "metadata": {},
   "source": [
    "### Descussion\n",
    "\n",
    "\n",
    "1. **portfolio_id** - each value of this feature is different from the rest. This means that it will give no useful information when fitting a model, thus we will ignore it at that stage.  \n",
    "2. **desk_id** is in the form \"DSK\" followed by 8 digits. Fill in the missing values with *\"DSK00000000\"* then delete the first 3 letters and convert the column into the float.    \n",
    "3. **indicator_code** and **status** have only *True* values encoded. We will fill the rest of the values with *False*.  \n",
    "4. **hedge_value** has *True* and *False* values, we will fill in the missing values with *\"other\"*. We will remember return to this column and create dummy variables from it as the later RandomForest algorithm will have a hard time with \"other\".\n",
    "5. **libor_rate** is not an object that is why it is not included in the description above. We will handle its missing values by filling in the median of the rest of the values in **libor_rate**.  \n",
    "6. **sold** and **bought** both have two missing values. If these values are in the same rows, we will delete those rows.  \n",
    "7. And finally, we will do one-hot encoding (create dummy variables for each of the object columns).  \n",
    "8. Two features, **pf_category** and **type** have a different number of unique values in training set compared to test set.  "
   ]
  },
  {
   "cell_type": "markdown",
   "metadata": {},
   "source": [
    "# Data Preprocessing"
   ]
  },
  {
   "cell_type": "markdown",
   "metadata": {},
   "source": [
    "## Date Columns"
   ]
  },
  {
   "cell_type": "code",
   "execution_count": 41,
   "metadata": {
    "collapsed": true
   },
   "outputs": [],
   "source": [
    "train['start_date'] = pd.to_datetime(train['start_date'], format = \"%Y%m%d\")\n",
    "train['creation_date'] = pd.to_datetime(train['creation_date'], format = '%Y%m%d')\n",
    "train['sell_date'] = pd.to_datetime(train['sell_date'], format = '%Y%m%d')\n",
    "\n",
    "test['start_date'] = pd.to_datetime(test['start_date'], format = \"%Y%m%d\")\n",
    "test['creation_date'] = pd.to_datetime(test['creation_date'], format = \"%Y%m%d\")\n",
    "test['sell_date'] = pd.to_datetime(test['sell_date'], format = \"%Y%m%d\")"
   ]
  },
  {
   "cell_type": "markdown",
   "metadata": {},
   "source": [
    "# New Features from Date Columns"
   ]
  },
  {
   "cell_type": "code",
   "execution_count": 42,
   "metadata": {
    "collapsed": true
   },
   "outputs": [],
   "source": [
    "train['start_creation'] = (train.creation_date - train.start_date).astype('timedelta64[h]')\n",
    "train['creation_sell'] = (train.sell_date - train.creation_date).astype('timedelta64[h]')\n",
    "\n",
    "test['start_creation'] = (test.creation_date - test.start_date).astype('timedelta64[h]')\n",
    "test['creation_sell'] = (test.sell_date - test.creation_date).astype('timedelta64[h]')"
   ]
  },
  {
   "cell_type": "markdown",
   "metadata": {},
   "source": [
    "# New Feature from *sold* and *bought* Columns \n",
    "\n",
    "**Note**: With this feature added, the leaderboard score is dropping from 0.96169 to 0.95306 (randomforest model)"
   ]
  },
  {
   "cell_type": "code",
   "execution_count": 43,
   "metadata": {
    "collapsed": true
   },
   "outputs": [],
   "source": [
    "#train['profit'] = train.bought - train.sold\n",
    "#test['profit'] = test.bought - test.sold"
   ]
  },
  {
   "cell_type": "markdown",
   "metadata": {},
   "source": [
    "## Filling in Missing Values"
   ]
  },
  {
   "cell_type": "code",
   "execution_count": 44,
   "metadata": {},
   "outputs": [
    {
     "data": {
      "text/plain": [
       "True"
      ]
     },
     "execution_count": 44,
     "metadata": {},
     "output_type": "execute_result"
    }
   ],
   "source": [
    "train_new = train.drop(['portfolio_id', 'start_date', 'creation_date', 'sell_date'], axis = 1)\n",
    "\n",
    "train_new['desk_id'].fillna('DSK00000000', inplace = True)\n",
    "train_new['desk_id'] = train_new['desk_id'].str[3:].astype(float)\n",
    "\n",
    "train_new['libor_rate'].fillna(train_new['libor_rate'].median(), inplace = True)\n",
    "train_new['indicator_code'].fillna(False, inplace = True)\n",
    "train_new['hedge_value'].fillna('other', inplace = True)\n",
    "train_new['status'].fillna(False, inplace = True)\n",
    "\n",
    "# Check if the two missing values of sold and two missing values of bought are in the same rows\n",
    "len(train_new) == sum(train_new.isnull().sold == train_new.isnull().bought)"
   ]
  },
  {
   "cell_type": "code",
   "execution_count": 45,
   "metadata": {},
   "outputs": [
    {
     "name": "stdout",
     "output_type": "stream",
     "text": [
      "(9364, 16)\n"
     ]
    },
    {
     "data": {
      "text/plain": [
       "desk_id           float64\n",
       "office_id          object\n",
       "pf_category        object\n",
       "sold              float64\n",
       "country_code       object\n",
       "euribor_rate      float64\n",
       "currency           object\n",
       "libor_rate        float64\n",
       "bought            float64\n",
       "indicator_code       bool\n",
       "type               object\n",
       "hedge_value        object\n",
       "status               bool\n",
       "return            float64\n",
       "start_creation    float64\n",
       "creation_sell     float64\n",
       "dtype: object"
      ]
     },
     "execution_count": 45,
     "metadata": {},
     "output_type": "execute_result"
    }
   ],
   "source": [
    "# As 2 missing values of sold and bought are in the same rows, remove those tows\n",
    "train_new.dropna(axis = 0, how = 'any', inplace = True)\n",
    "print(train_new.shape)\n",
    "train_new.dtypes"
   ]
  },
  {
   "cell_type": "code",
   "execution_count": 46,
   "metadata": {
    "collapsed": true
   },
   "outputs": [],
   "source": [
    "# Do the same transformations for test data\n",
    "\n",
    "# First keep the id column in an array so that we can refer it later\n",
    "sub_ids = test['portfolio_id']\n",
    "\n",
    "test_new = test.drop(['portfolio_id', 'start_date', 'creation_date', 'sell_date'], axis = 1)\n",
    "\n",
    "test_new['desk_id'].fillna('DSK00000000', inplace = True)\n",
    "test_new['desk_id'] = test_new['desk_id'].str[3:].astype(float)\n",
    "\n",
    "test_new['libor_rate'].fillna(train_new['libor_rate'].median(), inplace = True)\n",
    "test_new['indicator_code'].fillna(False, inplace = True)\n",
    "test_new['hedge_value'].fillna('other', inplace = True)\n",
    "test_new['status'].fillna(False, inplace = True)"
   ]
  },
  {
   "cell_type": "markdown",
   "metadata": {},
   "source": [
    "## Dealing with Different Number of Categories (*pf_category* and *type* features)"
   ]
  },
  {
   "cell_type": "code",
   "execution_count": 47,
   "metadata": {},
   "outputs": [
    {
     "name": "stdout",
     "output_type": "stream",
     "text": [
      "['B' 'A' 'C' 'D' 'E']\n",
      "['A' 'B' 'C' 'D']\n"
     ]
    }
   ],
   "source": [
    "print(train_new['pf_category'].unique())\n",
    "print(test_new['pf_category'].unique())"
   ]
  },
  {
   "cell_type": "code",
   "execution_count": 48,
   "metadata": {},
   "outputs": [
    {
     "name": "stdout",
     "output_type": "stream",
     "text": [
      "['B' 'C' 'A' 'D' 'E' 'F' 'G' 'H']\n",
      "['A' 'B' 'C' 'D' 'E' 'F' 'H']\n"
     ]
    }
   ],
   "source": [
    "print(train_new['type'].unique())\n",
    "print(test_new['type'].unique())"
   ]
  },
  {
   "cell_type": "code",
   "execution_count": 49,
   "metadata": {},
   "outputs": [
    {
     "data": {
      "text/html": [
       "<div>\n",
       "<style>\n",
       "    .dataframe thead tr:only-child th {\n",
       "        text-align: right;\n",
       "    }\n",
       "\n",
       "    .dataframe thead th {\n",
       "        text-align: left;\n",
       "    }\n",
       "\n",
       "    .dataframe tbody tr th {\n",
       "        vertical-align: top;\n",
       "    }\n",
       "</style>\n",
       "<table border=\"1\" class=\"dataframe\">\n",
       "  <thead>\n",
       "    <tr style=\"text-align: right;\">\n",
       "      <th></th>\n",
       "      <th>office_id</th>\n",
       "      <th>pf_category</th>\n",
       "      <th>country_code</th>\n",
       "      <th>currency</th>\n",
       "      <th>type</th>\n",
       "      <th>hedge_value</th>\n",
       "    </tr>\n",
       "  </thead>\n",
       "  <tbody>\n",
       "    <tr>\n",
       "      <th>count</th>\n",
       "      <td>9361</td>\n",
       "      <td>9361</td>\n",
       "      <td>9361</td>\n",
       "      <td>9361</td>\n",
       "      <td>9361</td>\n",
       "      <td>9361</td>\n",
       "    </tr>\n",
       "    <tr>\n",
       "      <th>unique</th>\n",
       "      <td>2</td>\n",
       "      <td>4</td>\n",
       "      <td>5</td>\n",
       "      <td>5</td>\n",
       "      <td>7</td>\n",
       "      <td>3</td>\n",
       "    </tr>\n",
       "    <tr>\n",
       "      <th>top</th>\n",
       "      <td>OFF00001002</td>\n",
       "      <td>C</td>\n",
       "      <td>M</td>\n",
       "      <td>CHF</td>\n",
       "      <td>E</td>\n",
       "      <td>other</td>\n",
       "    </tr>\n",
       "    <tr>\n",
       "      <th>freq</th>\n",
       "      <td>6458</td>\n",
       "      <td>5260</td>\n",
       "      <td>5307</td>\n",
       "      <td>5307</td>\n",
       "      <td>5732</td>\n",
       "      <td>5696</td>\n",
       "    </tr>\n",
       "  </tbody>\n",
       "</table>\n",
       "</div>"
      ],
      "text/plain": [
       "          office_id pf_category country_code currency  type hedge_value\n",
       "count          9361        9361         9361     9361  9361        9361\n",
       "unique            2           4            5        5     7           3\n",
       "top     OFF00001002           C            M      CHF     E       other\n",
       "freq           6458        5260         5307     5307  5732        5696"
      ]
     },
     "execution_count": 49,
     "metadata": {},
     "output_type": "execute_result"
    }
   ],
   "source": [
    "# Delete rows of training set that correspond to the value \"E\" of pf_category \n",
    "train_new = train_new[~train_new['pf_category'].str.contains(\"E\")]\n",
    "\n",
    "# Delete rows of training set that correspond to the value \"G\" of type\n",
    "train_new = train_new[~train_new['type'].str.contains(\"G\")]\n",
    "\n",
    "# Look at the descriptions of training and test sets again\n",
    "train_new.describe(include = [np.object])"
   ]
  },
  {
   "cell_type": "code",
   "execution_count": 50,
   "metadata": {},
   "outputs": [
    {
     "data": {
      "text/html": [
       "<div>\n",
       "<style>\n",
       "    .dataframe thead tr:only-child th {\n",
       "        text-align: right;\n",
       "    }\n",
       "\n",
       "    .dataframe thead th {\n",
       "        text-align: left;\n",
       "    }\n",
       "\n",
       "    .dataframe tbody tr th {\n",
       "        vertical-align: top;\n",
       "    }\n",
       "</style>\n",
       "<table border=\"1\" class=\"dataframe\">\n",
       "  <thead>\n",
       "    <tr style=\"text-align: right;\">\n",
       "      <th></th>\n",
       "      <th>office_id</th>\n",
       "      <th>pf_category</th>\n",
       "      <th>country_code</th>\n",
       "      <th>currency</th>\n",
       "      <th>type</th>\n",
       "      <th>hedge_value</th>\n",
       "    </tr>\n",
       "  </thead>\n",
       "  <tbody>\n",
       "    <tr>\n",
       "      <th>count</th>\n",
       "      <td>4801</td>\n",
       "      <td>4801</td>\n",
       "      <td>4801</td>\n",
       "      <td>4801</td>\n",
       "      <td>4801</td>\n",
       "      <td>4801</td>\n",
       "    </tr>\n",
       "    <tr>\n",
       "      <th>unique</th>\n",
       "      <td>2</td>\n",
       "      <td>4</td>\n",
       "      <td>5</td>\n",
       "      <td>5</td>\n",
       "      <td>7</td>\n",
       "      <td>3</td>\n",
       "    </tr>\n",
       "    <tr>\n",
       "      <th>top</th>\n",
       "      <td>OFF00001002</td>\n",
       "      <td>C</td>\n",
       "      <td>M</td>\n",
       "      <td>CHF</td>\n",
       "      <td>E</td>\n",
       "      <td>other</td>\n",
       "    </tr>\n",
       "    <tr>\n",
       "      <th>freq</th>\n",
       "      <td>3300</td>\n",
       "      <td>2675</td>\n",
       "      <td>2696</td>\n",
       "      <td>2696</td>\n",
       "      <td>2940</td>\n",
       "      <td>2851</td>\n",
       "    </tr>\n",
       "  </tbody>\n",
       "</table>\n",
       "</div>"
      ],
      "text/plain": [
       "          office_id pf_category country_code currency  type hedge_value\n",
       "count          4801        4801         4801     4801  4801        4801\n",
       "unique            2           4            5        5     7           3\n",
       "top     OFF00001002           C            M      CHF     E       other\n",
       "freq           3300        2675         2696     2696  2940        2851"
      ]
     },
     "execution_count": 50,
     "metadata": {},
     "output_type": "execute_result"
    }
   ],
   "source": [
    "test_new.describe(include = [np.object])"
   ]
  },
  {
   "cell_type": "markdown",
   "metadata": {},
   "source": [
    "## One-hot Encoding"
   ]
  },
  {
   "cell_type": "code",
   "execution_count": 51,
   "metadata": {},
   "outputs": [
    {
     "name": "stdout",
     "output_type": "stream",
     "text": [
      "train_new shape: (9361, 16) test_new shape: (4801, 15)\n",
      "train_dummies Shape (9361, 36)\n",
      "desk_id                  float64\n",
      "sold                     float64\n",
      "euribor_rate             float64\n",
      "libor_rate               float64\n",
      "bought                   float64\n",
      "indicator_code              bool\n",
      "status                      bool\n",
      "return                   float64\n",
      "start_creation           float64\n",
      "creation_sell            float64\n",
      "office_id_OFF00001001      uint8\n",
      "office_id_OFF00001002      uint8\n",
      "pf_category_A              uint8\n",
      "pf_category_B              uint8\n",
      "pf_category_C              uint8\n",
      "pf_category_D              uint8\n",
      "country_code_M             uint8\n",
      "country_code_N             uint8\n",
      "country_code_T             uint8\n",
      "country_code_U             uint8\n",
      "country_code_Z             uint8\n",
      "currency_CHF               uint8\n",
      "currency_EUR               uint8\n",
      "currency_GBP               uint8\n",
      "currency_JPY               uint8\n",
      "currency_USD               uint8\n",
      "type_A                     uint8\n",
      "type_B                     uint8\n",
      "type_C                     uint8\n",
      "type_D                     uint8\n",
      "type_E                     uint8\n",
      "type_F                     uint8\n",
      "type_H                     uint8\n",
      "hedge_value_False          uint8\n",
      "hedge_value_True           uint8\n",
      "hedge_value_other          uint8\n",
      "dtype: object\n",
      "---------------------------------\n",
      "test_dummies Shape (4801, 35)\n",
      "desk_id                  float64\n",
      "sold                     float64\n",
      "euribor_rate             float64\n",
      "libor_rate               float64\n",
      "bought                   float64\n",
      "indicator_code              bool\n",
      "status                      bool\n",
      "start_creation           float64\n",
      "creation_sell            float64\n",
      "office_id_OFF00001001      uint8\n",
      "office_id_OFF00001002      uint8\n",
      "pf_category_A              uint8\n",
      "pf_category_B              uint8\n",
      "pf_category_C              uint8\n",
      "pf_category_D              uint8\n",
      "country_code_M             uint8\n",
      "country_code_N             uint8\n",
      "country_code_T             uint8\n",
      "country_code_U             uint8\n",
      "country_code_Z             uint8\n",
      "currency_CHF               uint8\n",
      "currency_EUR               uint8\n",
      "currency_GBP               uint8\n",
      "currency_JPY               uint8\n",
      "currency_USD               uint8\n",
      "type_A                     uint8\n",
      "type_B                     uint8\n",
      "type_C                     uint8\n",
      "type_D                     uint8\n",
      "type_E                     uint8\n",
      "type_F                     uint8\n",
      "type_H                     uint8\n",
      "hedge_value_False          uint8\n",
      "hedge_value_True           uint8\n",
      "hedge_value_other          uint8\n",
      "dtype: object\n"
     ]
    }
   ],
   "source": [
    "print('train_new shape:', train_new.shape, 'test_new shape:', test_new.shape)\n",
    "\n",
    "train_dummies = pd.get_dummies(train_new, prefix = ['office_id', 'pf_category', 'country_code', 'currency', 'type', 'hedge_value'])\n",
    "print('train_dummies Shape', train_dummies.shape)\n",
    "print(train_dummies.dtypes)\n",
    "print('---------------------------------')\n",
    "\n",
    "test_dummies = pd.get_dummies(test_new, prefix = ['office_id', 'pf_category', 'country_code', 'currency', 'type', 'hedge_value'])\n",
    "print('test_dummies Shape', test_dummies.shape)\n",
    "print(test_dummies.dtypes)"
   ]
  },
  {
   "cell_type": "markdown",
   "metadata": {},
   "source": [
    "# Visualizing Data"
   ]
  },
  {
   "cell_type": "code",
   "execution_count": 52,
   "metadata": {
    "collapsed": true
   },
   "outputs": [],
   "source": [
    "# Do this later\n",
    "\n",
    "import matplotlib.pyplot as plt\n",
    "%matplotlib notebook\n",
    "\n",
    "#plt.figure()\n",
    "#plt.plot(train.start_date, train.euribor_rate, '--r')\n",
    "#plt.plot(train.start_date, train.libor_rate, 'o')\n",
    "#plt.plot(train.start_date, train.sold, '.')\n"
   ]
  },
  {
   "cell_type": "markdown",
   "metadata": {},
   "source": [
    "# Random Forest"
   ]
  },
  {
   "cell_type": "code",
   "execution_count": 53,
   "metadata": {},
   "outputs": [
    {
     "name": "stdout",
     "output_type": "stream",
     "text": [
      "[-0.37544324  0.76566659  0.93452145  0.38797311  0.84544306]\n",
      "mean r2: 0.511632194695\n"
     ]
    }
   ],
   "source": [
    "from sklearn.model_selection import train_test_split\n",
    "from sklearn.model_selection import cross_val_score\n",
    "from sklearn.ensemble import RandomForestRegressor\n",
    "\n",
    "y_train = train_dummies['return']\n",
    "X_train = train_dummies.drop('return', axis = 1)\n",
    "\n",
    "# split data into training and validation sets (for later use)\n",
    "#X_train, X_test, y_train, y_test = train_test_split(X_train, y_train, random_state = 3)\n",
    "\n",
    "forest_reg = RandomForestRegressor(random_state=0)\n",
    "scores = cross_val_score(forest_reg, X_train, y_train, scoring = 'r2', cv=5)\n",
    "print(scores)\n",
    "print('mean r2:',np.mean(scores))"
   ]
  },
  {
   "cell_type": "markdown",
   "metadata": {},
   "source": [
    "#  Predict on test Data (labeled)"
   ]
  },
  {
   "cell_type": "code",
   "execution_count": 54,
   "metadata": {
    "collapsed": true
   },
   "outputs": [],
   "source": [
    "forest_reg = RandomForestRegressor(random_state = 0).fit(X_train, y_train)\n",
    "#forest_reg.score(X_test, y_test)"
   ]
  },
  {
   "cell_type": "markdown",
   "metadata": {},
   "source": [
    "# Predict on test Data (unseen)"
   ]
  },
  {
   "cell_type": "code",
   "execution_count": 55,
   "metadata": {},
   "outputs": [
    {
     "data": {
      "text/html": [
       "<a href='sub_returns.csv' target='_blank'>sub_returns.csv</a><br>"
      ],
      "text/plain": [
       "/Users/araks/Documents/AS_projects/Competitions/hackerearth/BrainWaves2017_18/Predict_Annual_Returns/sub_returns.csv"
      ]
     },
     "execution_count": 55,
     "metadata": {},
     "output_type": "execute_result"
    }
   ],
   "source": [
    "from IPython.display import FileLink\n",
    "\n",
    "\n",
    "predictions = forest_reg.predict(test_dummies)\n",
    "\n",
    "sub = pd.DataFrame({'portfolio_id': sub_ids, 'return': predictions})\n",
    "filename = 'sub_returns.csv'\n",
    "sub.to_csv(filename, index=False)\n",
    "FileLink(filename) # leaderboard 0.96169"
   ]
  },
  {
   "cell_type": "code",
   "execution_count": null,
   "metadata": {
    "collapsed": true
   },
   "outputs": [],
   "source": []
  }
 ],
 "metadata": {
  "kernelspec": {
   "display_name": "Python [default]",
   "language": "python",
   "name": "python3"
  },
  "language_info": {
   "codemirror_mode": {
    "name": "ipython",
    "version": 3
   },
   "file_extension": ".py",
   "mimetype": "text/x-python",
   "name": "python",
   "nbconvert_exporter": "python",
   "pygments_lexer": "ipython3",
   "version": "3.5.4"
  }
 },
 "nbformat": 4,
 "nbformat_minor": 2
}
